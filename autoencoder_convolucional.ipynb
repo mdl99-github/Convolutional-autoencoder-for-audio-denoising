{
 "cells": [
  {
   "cell_type": "code",
   "execution_count": 1,
   "metadata": {},
   "outputs": [],
   "source": [
    "import matplotlib.pyplot as plt\n",
    "import numpy as np\n",
    "import tensorflow as tf\n",
    "from tensorflow.keras.models import Sequential\n",
    "from tensorflow.keras.layers import Conv1D, Conv1DTranspose\n",
    "from tensorflow.keras.constraints import max_norm\n",
    "import datos_con_clicks as dc\n",
    "from scipy.io import wavfile\n"
   ]
  },
  {
   "cell_type": "code",
   "execution_count": 31,
   "metadata": {},
   "outputs": [],
   "source": [
    "#Load noisy and clean data\n",
    "clean, noisy = dc.load_data(44000, 60, 20, 0.0034)"
   ]
  },
  {
   "cell_type": "code",
   "execution_count": 4,
   "metadata": {},
   "outputs": [],
   "source": [
    "#Normalize and build training and test sets\n",
    "n = len(clean)\n",
    "train = clean[0:int(0.9*n)]\n",
    "test = clean[int(0.9*n):n]\n",
    "train_noisy = noisy[0:int(0.9*n)]\n",
    "test_noisy = noisy[int(0.9*n):n]\n",
    "train, train_noisy, test, test_noisy, m, M = dc.normalizar(train, train_noisy, test, test_noisy)"
   ]
  },
  {
   "cell_type": "code",
   "execution_count": null,
   "metadata": {},
   "outputs": [],
   "source": [
    "#In case of only wanting to try pretrained model:\n",
    "model = tf.keras.models.load_model('working.h5')"
   ]
  },
  {
   "cell_type": "code",
   "execution_count": 5,
   "metadata": {},
   "outputs": [],
   "source": [
    "input_shape = (train.shape[1], 1)\n",
    "batch_size = 4\n",
    "no_epochs = 200\n",
    "verbosity = 1\n",
    "max_norm_value = 10"
   ]
  },
  {
   "cell_type": "code",
   "execution_count": null,
   "metadata": {},
   "outputs": [],
   "source": [
    "#Define the model\n",
    "model = Sequential()\n",
    "model.add(Conv1D(128, kernel_size=3, kernel_constraint=max_norm(max_norm_value), activation='leaky_relu', kernel_initializer='he_uniform', input_shape=input_shape))\n",
    "model.add(Conv1D(64, kernel_size=3, kernel_constraint=max_norm(max_norm_value), activation='leaky_relu', kernel_initializer='he_uniform'))\n",
    "model.add(Conv1D(32, kernel_size=3, kernel_constraint=max_norm(max_norm_value), activation='leaky_relu', kernel_initializer='he_uniform'))\n",
    "model.add(Conv1DTranspose(128, kernel_size=3, kernel_constraint=max_norm(max_norm_value), activation='leaky_relu', kernel_initializer='he_uniform'))\n",
    "model.add(Conv1DTranspose(64, kernel_size=3, kernel_constraint=max_norm(max_norm_value), activation='leaky_relu', kernel_initializer='he_uniform'))\n",
    "model.add(Conv1DTranspose(32, kernel_size=3, kernel_constraint=max_norm(max_norm_value), activation='leaky_relu', kernel_initializer='he_uniform'))\n",
    "model.add(Conv1D(1, kernel_size=3, kernel_constraint=max_norm(max_norm_value), activation='sigmoid', padding='same'))\n",
    "\n",
    "model.summary()"
   ]
  },
  {
   "cell_type": "code",
   "execution_count": null,
   "metadata": {},
   "outputs": [],
   "source": [
    "#Train\n",
    "model.compile(optimizer='adam', loss='mse')\n",
    "history = model.fit(train_noisy, train,\n",
    "                epochs=no_epochs,\n",
    "                batch_size=batch_size,\n",
    "                verbose = verbosity,\n",
    "                validation_data=(test_noisy, test))"
   ]
  },
  {
   "cell_type": "code",
   "execution_count": null,
   "metadata": {},
   "outputs": [],
   "source": [
    "# Loss chart\n",
    "fig, ax = plt.subplots(figsize=(12,5), dpi=100)\n",
    "plt.title(label='Pérdida por época', loc='center')\n",
    "\n",
    "ax.plot(history.history['loss'], label='Entrenamiento', color='black')\n",
    "ax.plot(history.history['val_loss'], label='Testeo', color='red')\n",
    "ax.set(xlabel='Epoch', ylabel='Loss')\n",
    "ax.set_yscale('log')\n",
    "plt.legend()\n",
    "\n",
    "plt.show()"
   ]
  },
  {
   "cell_type": "code",
   "execution_count": null,
   "metadata": {},
   "outputs": [],
   "source": [
    "#Predict with the model\n",
    "testDenoised = model.predict(test_noisy).reshape(test.shape[0], test.shape[1])\n",
    "\n",
    "#Show some normalized signals\n",
    "fig, axs = plt.subplots(2, 2, sharey=False, tight_layout=True, figsize=(12,6), facecolor='white')\n",
    "axs[0,1].plot(testDenoised[10], label='Depurada')\n",
    "axs[0,1].plot(test_noisy[10], label='Ruidosa')\n",
    "axs[0,1].plot(test[10], label='Original')\n",
    "axs[0,1].legend(loc=\"upper left\")\n",
    "axs[0,1].set(title=\"Señal 10 (normalizada)\")\n",
    "axs[0,1].grid()\n",
    "axs[0,1].set_xlabel('Muestras')\n",
    "axs[0,1].set_ylabel('Magnitud')\n",
    "axs[0,0].plot(testDenoised[1], label='Depurada')\n",
    "axs[0,0].plot(test_noisy[1], label='Ruidosa')\n",
    "axs[0,0].plot(test[1], label= 'Original')\n",
    "axs[0,0].legend(loc=\"upper left\")\n",
    "axs[0,0].grid()\n",
    "axs[0,0].set_xlabel('Muestras')\n",
    "axs[0,0].set_ylabel('Magnitud')\n",
    "axs[0,0].set(title=\"Señal 1 ruidosa (normalizada)\")\n",
    "axs[1,1].plot(testDenoised[40], label='Depurada')\n",
    "axs[1,1].plot(test_noisy[40], label='Ruidosa')\n",
    "axs[1,1].plot(test[40], label='Original')\n",
    "axs[1,1].legend(loc=\"lower left\")\n",
    "axs[1,1].grid()\n",
    "axs[1,1].set_xlabel('Muestras')\n",
    "axs[1,1].set_ylabel('Magnitud')\n",
    "axs[1,1].set(title=\"Señal 50 luego de pasar por la red (normalizada)\")\n",
    "axs[1,0].plot(testDenoised[3], label='Depurada')\n",
    "axs[1,0].plot(test_noisy[3], label='Ruidosa')\n",
    "axs[1,0].plot(test[3], label='Original')\n",
    "axs[1,0].legend(loc=\"upper right\")\n",
    "axs[1,0].set(title=\"Señal 250 ruidosa (normalizada)\")\n",
    "axs[1,0].grid()\n",
    "axs[1,0].set_xlabel('Muestras')\n",
    "axs[1,0].set_ylabel('Magnitud')\n",
    "plt.show() "
   ]
  },
  {
   "cell_type": "code",
   "execution_count": null,
   "metadata": {},
   "outputs": [],
   "source": [
    "#Concatenate fragments to build one song\n",
    "cancion = test_noisy[10-1]\n",
    "cancion_depurada = testDenoised[10-1]\n",
    "for i in range(10, len(test)):\n",
    "    cancion = np.concatenate((cancion, test_noisy[i]))\n",
    "    cancion_depurada = np.concatenate((cancion_depurada, testDenoised[i]))\n",
    "fig, ax = plt.subplots(figsize=(12,6), dpi=100)\n",
    "plt.plot(cancion, label='Ruidosa')\n",
    "plt.plot(cancion_depurada, label='Depurada')\n",
    "plt.legend(loc=\"upper left\")\n",
    "plt.title('Fragmento de audio (test set)');\n",
    "plt.grid()\n",
    "plt.xlabel('Muestras')\n",
    "plt.ylabel('Magnitud');"
   ]
  },
  {
   "cell_type": "code",
   "execution_count": 11,
   "metadata": {},
   "outputs": [],
   "source": [
    "wavfile.write('testNoisy.wav', 44100, cancion)\n",
    "wavfile.write('testDenoised.wav', 44100, cancion_depurada)"
   ]
  },
  {
   "cell_type": "code",
   "execution_count": null,
   "metadata": {},
   "outputs": [],
   "source": [
    "#Real audio test\n",
    "fs, audio_con_clicks = wavfile.read('audio_con_clicks.wav')\n",
    "datos = []\n",
    "for i in range(0, int(len(audio_con_clicks)/len(noisy[0]))):\n",
    "    datos.append(audio_con_clicks[i*len(noisy[0]):(i + 1)*len(noisy[0])])\n",
    "\n",
    "datos = np.array(datos)\n",
    "\n",
    "datos = datos*0.05\n",
    "\n",
    "m = 1000000\n",
    "M = -1000000\n",
    "for i in range(0, datos.shape[0]):\n",
    "    M1 = max(datos[i])\n",
    "    M = max(M1, M)\n",
    "    \n",
    "    m1 = min(datos[i])\n",
    "    m = min(m1, m)  \n",
    "for i in range(0, datos.shape[0]):\n",
    "    datos[i] = (datos[i] - m)/(M - m)\n",
    "\n"
   ]
  },
  {
   "cell_type": "code",
   "execution_count": null,
   "metadata": {},
   "outputs": [],
   "source": [
    "#Predict with the model\n",
    "audioDenoised = model.predict(datos).reshape(datos.shape[0], datos.shape[1])"
   ]
  },
  {
   "cell_type": "code",
   "execution_count": null,
   "metadata": {},
   "outputs": [],
   "source": [
    "#Concatenate\n",
    "cancion = datos[0]\n",
    "cancion_depurada = audioDenoised[0]\n",
    "for i in range(1, len(audioDenoised)):\n",
    "    cancion = np.concatenate((cancion, datos[i]))\n",
    "    cancion_depurada = np.concatenate((cancion_depurada, audioDenoised[i]))\n",
    "fig, ax = plt.subplots(figsize=(12,6), dpi=100)\n",
    "plt.plot(cancion, label='Audio ruidoso real')\n",
    "plt.plot(cancion_depurada, label='Audio real depurado')\n",
    "plt.legend(loc='upper right')\n",
    "plt.grid()\n",
    "plt.xlabel('Muestras')\n",
    "plt.ylabel('Magnitud');"
   ]
  },
  {
   "cell_type": "code",
   "execution_count": 15,
   "metadata": {},
   "outputs": [],
   "source": [
    "wavfile.write('audioDenoised.wav', 44100, cancion_depurada)"
   ]
  },
  {
   "cell_type": "code",
   "execution_count": 94,
   "metadata": {},
   "outputs": [],
   "source": [
    "#Save trained model\n",
    "model.save('working_v2.h5')"
   ]
  },
  {
   "cell_type": "markdown",
   "metadata": {},
   "source": [
    "## Extra results"
   ]
  },
  {
   "cell_type": "markdown",
   "metadata": {},
   "source": [
    "### Frequency domain"
   ]
  },
  {
   "cell_type": "code",
   "execution_count": 17,
   "metadata": {},
   "outputs": [],
   "source": [
    "#To run this section, remember to generate the audio files from before\n",
    "fs, test_noisy_spec = wavfile.read('testNoisy.wav')\n",
    "fs, test_denoised_spec = wavfile.read('testDenoised.wav')\n",
    "fs, audio_noisy_spec = wavfile.read('audio_con_clicks.wav')\n",
    "fs, audio_denoised_spec = wavfile.read('audioDenoised.wav')"
   ]
  },
  {
   "cell_type": "code",
   "execution_count": null,
   "metadata": {},
   "outputs": [],
   "source": [
    "from scipy.fft import fft, fftfreq\n",
    "\n",
    "N = 10000\n",
    "T = 1.0 / fs\n",
    "x = np.linspace(0.0, N*T, N, endpoint=False)\n",
    "\n",
    "yf = fft(test_noisy_spec)\n",
    "xf = fftfreq(N, T)[:N//2]\n",
    "yfd = fft(test_denoised_spec)\n",
    "\n",
    "fig, ax = plt.subplots(figsize=(12,6), dpi=100)\n",
    "plt.semilogy(xf[1:], 2.0/N * np.abs(yf[1:N//2]), label='Test ruidoso')\n",
    "plt.semilogy(xf[1:], 2.0/N * np.abs(yfd[1:N//2]), label='Test depurado')\n",
    "plt.xlabel('Frecuencia [Hz]')\n",
    "plt.ylabel('Potencia [W]')\n",
    "plt.legend(loc=\"upper right\")\n",
    "plt.grid()\n",
    "plt.show()"
   ]
  },
  {
   "cell_type": "code",
   "execution_count": null,
   "metadata": {},
   "outputs": [],
   "source": [
    "N = 10000\n",
    "T = 1.0 / fs\n",
    "x = np.linspace(0.0, N*T, N, endpoint=False)\n",
    "\n",
    "yf = fft(audio_noisy_spec)\n",
    "xf = fftfreq(N, T)[:N//2]\n",
    "yfd = fft(audio_denoised_spec)\n",
    "\n",
    "\n",
    "fig, ax = plt.subplots(figsize=(12,6), dpi=100)\n",
    "plt.semilogy(xf[1:], 2.0/N * np.abs(yf[1:N//2]), label='Audio real ruidoso')\n",
    "plt.semilogy(xf[1:], 2.0/N * np.abs(yfd[1:N//2]), label='Audio real depurado')\n",
    "plt.xlabel('Frecuencia [Hz]')\n",
    "plt.ylabel('Potencia [W]')\n",
    "plt.legend(loc=\"upper left\")\n",
    "plt.grid()\n",
    "plt.show()"
   ]
  },
  {
   "cell_type": "markdown",
   "metadata": {},
   "source": [
    "### Number of clicks"
   ]
  },
  {
   "cell_type": "code",
   "execution_count": null,
   "metadata": {},
   "outputs": [],
   "source": [
    "#Load data and predict with model\n",
    "clean, noisy = dc.load_data_nueva(5000, 60, 20, 0.0034)\n",
    "train, train_noisy, test, test_noisy, m, M = dc.normalizar([], [], clean, noisy)\n",
    "\n",
    "test_denoised = model.predict(test_noisy).reshape(test.shape[0], test.shape[1])"
   ]
  },
  {
   "cell_type": "code",
   "execution_count": 22,
   "metadata": {},
   "outputs": [],
   "source": [
    "#Denormalize\n",
    "for i in range(0, len(test)):\n",
    "    test_noisy[i] = (test_noisy[i])*(M - m) + m\n",
    "    test[i] = (test[i])*(M - m) + m"
   ]
  },
  {
   "cell_type": "code",
   "execution_count": null,
   "metadata": {},
   "outputs": [],
   "source": [
    "\n",
    "#Average number of clicks\n",
    "cantidad = []\n",
    "for i in range(0, len(test_noisy)):\n",
    "    ubic = dc.deteccion(test_noisy[i], 0.9)\n",
    "    cantidad.append(len(ubic))\n",
    "clc = (sum(cantidad)/(len(test_noisy)*len(test_noisy[0])))\n",
    "print(\"Ruidosos:\")\n",
    "print(clc)\n",
    "\n",
    "\n",
    "cantidad = []\n",
    "for i in range(0, len(test_denoised)):\n",
    "    ubic = dc.deteccion(test_denoised[i], 0.9)\n",
    "    cantidad.append(len(ubic))\n",
    "clc = (sum(cantidad)/(len(test_denoised)*len(test_denoised[0])))\n",
    "print(\"Limpios:\")\n",
    "print(clc)"
   ]
  },
  {
   "cell_type": "code",
   "execution_count": 24,
   "metadata": {},
   "outputs": [],
   "source": [
    "#With real audio\n",
    "fs, audio_con_clicks = wavfile.read('audio_con_clicks.wav')\n",
    "datos = []\n",
    "for i in range(0, int(len(audio_con_clicks)/len(noisy[0]))):\n",
    "    datos.append(audio_con_clicks[i*len(noisy[0]):(i + 1)*len(noisy[0])])\n",
    "\n",
    "datos = np.array(datos)\n",
    "\n",
    "datos = datos*0.05\n",
    "\n",
    "#Normalize\n",
    "\n",
    "m = 1000000\n",
    "M = -1000000\n",
    "for i in range(0, datos.shape[0]):\n",
    "    M1 = max(datos[i])\n",
    "    M = max(M1, M)\n",
    "    \n",
    "    m1 = min(datos[i])\n",
    "    m = min(m1, m)  \n",
    "for i in range(0, datos.shape[0]):\n",
    "    datos[i] = (datos[i] - m)/(M - m)\n"
   ]
  },
  {
   "cell_type": "code",
   "execution_count": null,
   "metadata": {},
   "outputs": [],
   "source": [
    "#Predict with model and concatenate fragments\n",
    "audioDenoised = model.predict(datos).reshape(datos.shape[0], datos.shape[1])\n",
    "cancion = datos[0]\n",
    "cancion_depurada = audioDenoised[0]\n",
    "for i in range(1, len(audioDenoised)):\n",
    "    cancion = np.concatenate((cancion, datos[i]))\n",
    "    cancion_depurada = np.concatenate((cancion_depurada, audioDenoised[i]))"
   ]
  },
  {
   "cell_type": "code",
   "execution_count": null,
   "metadata": {},
   "outputs": [],
   "source": [
    "\n",
    "#Number of clicks\n",
    "ubic = dc.deteccion(cancion, 0.56)\n",
    "clc = (len(ubic)/(len(cancion)))\n",
    "print(\"Ruidoso:\")\n",
    "print(clc)\n",
    "\n",
    "ubic = dc.deteccion(cancion_depurada, 0.56)\n",
    "clc = (len(ubic)/(len(cancion_depurada)))\n",
    "print(\"Limpio:\")\n",
    "print(clc)"
   ]
  },
  {
   "cell_type": "markdown",
   "metadata": {},
   "source": [
    "### Mute audio"
   ]
  },
  {
   "cell_type": "code",
   "execution_count": 27,
   "metadata": {},
   "outputs": [],
   "source": [
    "fs, clicks = wavfile.read('ruido.wav')\n",
    "datos = []\n",
    "for i in range(0, int(len(clicks)/149)):\n",
    "    datos.append(clicks[i*149:(i + 1)*149])\n",
    "\n",
    "datos = np.array(datos)\n",
    "\n",
    "datos = datos*0.1\n",
    "\n",
    "m = 1000000\n",
    "M = -1000000\n",
    "for i in range(0, datos.shape[0]):\n",
    "    M1 = max(datos[i])\n",
    "    M = max(M1, M)\n",
    "    \n",
    "    m1 = min(datos[i])\n",
    "    m = min(m1, m)  \n",
    "for i in range(0, datos.shape[0]):\n",
    "    datos[i] = (datos[i] - m)/(M - m)\n"
   ]
  },
  {
   "cell_type": "code",
   "execution_count": null,
   "metadata": {},
   "outputs": [],
   "source": [
    "silencio = model.predict(datos).reshape(datos.shape[0], datos.shape[1])"
   ]
  },
  {
   "cell_type": "code",
   "execution_count": 29,
   "metadata": {},
   "outputs": [],
   "source": [
    "for i in range(0, silencio.shape[0]):\n",
    "    silencio[i] = (silencio[i])*(M - m) + m\n",
    "for i in range(0, datos.shape[0]):\n",
    "    datos[i] = (datos[i])*(M - m) + m\n",
    "datos.astype(int)\n",
    "silencio.astype(int);"
   ]
  },
  {
   "cell_type": "code",
   "execution_count": null,
   "metadata": {},
   "outputs": [],
   "source": [
    "cancion = datos[0]\n",
    "cancion_depurada = silencio[0]\n",
    "for i in range(1, len(silencio)):\n",
    "    cancion = np.concatenate((cancion, datos[i]))\n",
    "    cancion_depurada = np.concatenate((cancion_depurada, silencio[i]))\n",
    "fig, ax = plt.subplots(figsize=(12,6), dpi=100)\n",
    "plt.plot(cancion, label='Clicks solos')\n",
    "plt.plot(cancion_depurada, label='Clicks luego de la red')\n",
    "plt.legend(loc='upper right')\n",
    "plt.grid()\n",
    "plt.xlabel('Muestras')\n",
    "plt.ylabel('Magnitud');"
   ]
  },
  {
   "cell_type": "code",
   "execution_count": null,
   "metadata": {},
   "outputs": [],
   "source": []
  }
 ],
 "metadata": {
  "kernelspec": {
   "display_name": "tf",
   "language": "python",
   "name": "python3"
  },
  "language_info": {
   "codemirror_mode": {
    "name": "ipython",
    "version": 3
   },
   "file_extension": ".py",
   "mimetype": "text/x-python",
   "name": "python",
   "nbconvert_exporter": "python",
   "pygments_lexer": "ipython3",
   "version": "3.9.16"
  },
  "orig_nbformat": 4,
  "vscode": {
   "interpreter": {
    "hash": "7c13e1ca8199064a2bf4471b208eab0bc0733150a281fad643959660c8b9579f"
   }
  }
 },
 "nbformat": 4,
 "nbformat_minor": 2
}
